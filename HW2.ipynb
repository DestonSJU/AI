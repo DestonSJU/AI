{
  "nbformat": 4,
  "nbformat_minor": 0,
  "metadata": {
    "colab": {
      "provenance": [],
      "authorship_tag": "ABX9TyNWJ1zC9STWuUXavpPwvad6",
      "include_colab_link": true
    },
    "kernelspec": {
      "name": "python3",
      "display_name": "Python 3"
    },
    "language_info": {
      "name": "python"
    }
  },
  "cells": [
    {
      "cell_type": "markdown",
      "metadata": {
        "id": "view-in-github",
        "colab_type": "text"
      },
      "source": [
        "<a href=\"https://colab.research.google.com/github/DestonSJU/AI/HW2/blob/main/HW2.ipynb\" target=\"_parent\"><img src=\"https://colab.research.google.com/assets/colab-badge.svg\" alt=\"Open In Colab\"/></a>"
      ]
    },
    {
      "cell_type": "markdown",
      "source": [
        "## **The Water Jug Puzzle:**"
      ],
      "metadata": {
        "id": "ffVseaCbCErw"
      }
    },
    {
      "cell_type": "markdown",
      "source": [
        "The Water Jug Puzzle is a puzzle containing two jugs of water, one that can hold 5L and one that can hold 3L. The player can fill and empty the jugs as many times as they would like and can also tranfer contents from one jug into another. The goal is for there to be 4L of water in the 5L jug."
      ],
      "metadata": {
        "id": "lswRkwLpD4q5"
      }
    },
    {
      "cell_type": "markdown",
      "source": [
        "## **Start State:**\n"
      ],
      "metadata": {
        "id": "PRA_MO9jCz4H"
      }
    },
    {
      "cell_type": "markdown",
      "source": [
        "[0,0]; Both the 5L jug (left) and the 3L jug (right) are empty."
      ],
      "metadata": {
        "id": "902y7h8iD7sf"
      }
    },
    {
      "cell_type": "markdown",
      "source": [
        "## **Goal State:**"
      ],
      "metadata": {
        "id": "Li4aUz9sDGh_"
      }
    },
    {
      "cell_type": "markdown",
      "source": [
        "[4, (Any Number)]; The 5L jug (left) is at 4L."
      ],
      "metadata": {
        "id": "QEalv1WHEDVN"
      }
    },
    {
      "cell_type": "markdown",
      "source": [
        "## **Solution:**"
      ],
      "metadata": {
        "id": "1EmGbz6yEnQB"
      }
    },
    {
      "cell_type": "markdown",
      "source": [
        "1. Apply Rule 1: Fill the large jug\n",
        "2. Apply Rule 6: Fill the small jug with the large jug\n",
        "3. Apply Rule 4: Empty the small jug\n",
        "4. Apply Rule 6: Fill the small jug with the large jug\n",
        "5. Apply Rule 1: Fill the large jug\n",
        "6. Apply Rule 6: Fill the small jug with the large jug"
      ],
      "metadata": {
        "id": "vfbgqw0SErIF"
      }
    },
    {
      "cell_type": "markdown",
      "source": [
        "## **Creating the Rules:**"
      ],
      "metadata": {
        "id": "QWMzhV-FJnar"
      }
    },
    {
      "cell_type": "code",
      "execution_count": 1,
      "metadata": {
        "id": "n1OJRRN4PI31"
      },
      "outputs": [],
      "source": [
        "#Define the class WaterJugPuzzle\n",
        "class WaterJugPuzzle():\n",
        "\n",
        "  #Initializes the class with an int array that contains two 0s to represent the large ans small jug\n",
        "  def __init__(self):\n",
        "    self.array = [0,0]\n",
        "\n",
        "  #Saves the array in saved_array in the case that a move needs to be undone\n",
        "  def save_state(self):\n",
        "    self.saved_array = self.array\n",
        "\n",
        "  #Returns the array to the previous state before the move was made\n",
        "  def undo_state(self):\n",
        "    self.array = self.saved_array\n",
        "\n",
        "  #Checks if the numbers for contents for the jugs are allowed and returns true if they are\n",
        "  def ok_state(self):\n",
        "    if self.array[0] > 5 or self.array[0] < 0 or self.array[1] > 3 or self.array[0] < 0:\n",
        "      return False\n",
        "    else:\n",
        "      return True\n",
        "\n",
        "  #Returns true if the large jug is full\n",
        "  def large_is_full(self):\n",
        "    if self.array[0] == 5:\n",
        "      return True\n",
        "    else:\n",
        "      return False\n",
        "\n",
        "  #Returns true if the small jug is full\n",
        "  def small_is_full(self):\n",
        "    if self.array[1] == 3:\n",
        "      return True\n",
        "    else:\n",
        "      return False\n",
        "\n",
        "  #Returns true if the large jug is empty\n",
        "  def large_is_empty(self):\n",
        "    if self.array[0] == 0:\n",
        "      return True\n",
        "    else:\n",
        "      return False\n",
        "\n",
        "  #Returns true if the small jug is empty\n",
        "  def small_is_empty(self):\n",
        "    if self.array[1] == 0:\n",
        "      return True\n",
        "    else:\n",
        "      return False\n",
        "\n",
        "  #Returns true if the goal state has been reached\n",
        "  def is_goal(self):\n",
        "    if self.array[0] == 4:\n",
        "      return True\n",
        "    else:\n",
        "      return False\n",
        "\n",
        "  # Rule 1: Fill large jug to full\n",
        "\n",
        "  def R1_fill_large(self):\n",
        "    self.save_state()\n",
        "    self.array[0] = 5\n",
        "    if self.ok_state() == False:\n",
        "      self.undo_state()\n",
        "\n",
        "  # Rule 2: Fill small jug to full\n",
        "\n",
        "  def R2_fill_small(self):\n",
        "    self.save_state()\n",
        "    self.array[1] = 3\n",
        "    if self.ok_state() == False:\n",
        "      self.undo_state()\n",
        "\n",
        "  # Rule 3: Empty large jug\n",
        "\n",
        "  def R3_empty_large(self):\n",
        "    self.save_state()\n",
        "    self.array[0] = 0\n",
        "    if self.ok_state() == False:\n",
        "      self.undo_state()\n",
        "\n",
        "  # Rule 4: Empty small jug\n",
        "\n",
        "  def R4_empty_small(self):\n",
        "    self.save_state()\n",
        "    self.array[1] = 0\n",
        "    if self.ok_state() == False:\n",
        "      self.undo_state()\n",
        "\n",
        "  # Rule 5: Fill the large jug with the small jug until the large jug is full or the small jug is empty\n",
        "\n",
        "  def R5_fill_large_with_small(self):\n",
        "    self.save_state()\n",
        "    while self.large_is_full() == False and self.small_is_empty() == False:\n",
        "      self.array[0] = self.array[0] + 1\n",
        "      self.array[1] = self.array[1] - 1\n",
        "    if self.ok_state() == False:\n",
        "      self.undo_state()\n",
        "\n",
        "  # Rule 6: Fill the small jug with the large jug until the small jug is full or the large jug is empty\n",
        "\n",
        "  def R6_fill_small_with_large(self):\n",
        "    self.save_state()\n",
        "    while self.small_is_full() == False and self.large_is_empty() == False:\n",
        "      self.array[0] = self.array[0] - 1\n",
        "      self.array[1] = self.array[1] + 1\n",
        "    if self.ok_state() == False:\n",
        "      self.undo_state()\n",
        "\n",
        "  # Prints the contents in the large and small jugs as well as whether the goal state has been acheived\n",
        "  def print_state(self):\n",
        "    print(\"Large:\", self.array[0], \" Small:\", self.array[1], \"Goal:\", self.is_goal())\n"
      ]
    },
    {
      "cell_type": "markdown",
      "source": [
        "## **Applying the Solution:**"
      ],
      "metadata": {
        "id": "ZnxjumOQJga3"
      }
    },
    {
      "cell_type": "code",
      "source": [
        "#Creates a new WaterJugPuzzle called game\n",
        "game = WaterJugPuzzle()\n",
        "\n",
        "#Prints start state\n",
        "game.print_state()\n",
        "print()\n",
        "\n",
        "#Apply Rule 1: Fill large jug\n",
        "game.R1_fill_large()\n",
        "game.print_state()\n",
        "print()\n",
        "\n",
        "#Apply Rule 6: Fill small jug with the large jug\n",
        "game.R6_fill_small_with_large()\n",
        "game.print_state()\n",
        "print()\n",
        "\n",
        "#Apply Rule 4: Empty the small jug\n",
        "game.R4_empty_small()\n",
        "game.print_state()\n",
        "print()\n",
        "\n",
        "#Apply Rule 6: Fill small jug with the large jug\n",
        "game.R6_fill_small_with_large()\n",
        "game.print_state()\n",
        "print()\n",
        "\n",
        "#Apply Rule 1: Fill large jug\n",
        "game.R1_fill_large()\n",
        "game.print_state()\n",
        "print()\n",
        "\n",
        "#Apply Rule 6: Fill small jug with the large jug\n",
        "game.R6_fill_small_with_large()\n",
        "game.print_state()\n",
        "print()\n",
        "\n"
      ],
      "metadata": {
        "colab": {
          "base_uri": "https://localhost:8080/"
        },
        "id": "5x6RlpPdcEH7",
        "outputId": "31a768e7-37c8-4277-fb90-2cfa9407df50"
      },
      "execution_count": 2,
      "outputs": [
        {
          "output_type": "stream",
          "name": "stdout",
          "text": [
            "Large: 0  Small: 0 Goal: False\n",
            "\n",
            "Large: 5  Small: 0 Goal: False\n",
            "\n",
            "Large: 2  Small: 3 Goal: False\n",
            "\n",
            "Large: 2  Small: 0 Goal: False\n",
            "\n",
            "Large: 0  Small: 2 Goal: False\n",
            "\n",
            "Large: 5  Small: 2 Goal: False\n",
            "\n",
            "Large: 4  Small: 3 Goal: True\n",
            "\n"
          ]
        }
      ]
    }
  ]
}
