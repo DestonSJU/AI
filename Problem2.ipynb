{
  "nbformat": 4,
  "nbformat_minor": 0,
  "metadata": {
    "colab": {
      "provenance": [],
      "authorship_tag": "ABX9TyNftqE+aIALfhhtDDAZabSA",
      "include_colab_link": true
    },
    "kernelspec": {
      "name": "python3",
      "display_name": "Python 3"
    },
    "language_info": {
      "name": "python"
    }
  },
  "cells": [
    {
      "cell_type": "markdown",
      "metadata": {
        "id": "view-in-github",
        "colab_type": "text"
      },
      "source": [
        "<a href=\"https://colab.research.google.com/github/DestonSJU/AI/blob/main/Problem2.ipynb\" target=\"_parent\"><img src=\"https://colab.research.google.com/assets/colab-badge.svg\" alt=\"Open In Colab\"/></a>"
      ]
    },
    {
      "cell_type": "markdown",
      "source": [
        "//*** Deston Willis\n",
        "\n",
        "//*** Artificial Intelligence\n",
        "\n",
        "//*** 2/15/24\n",
        "\n",
        "//*** HW3 Part 2: Create a BFS algorithm that prints the friends of friends of a given person that they aren't already friends with"
      ],
      "metadata": {
        "id": "wcS1ijav9Pik"
      }
    },
    {
      "cell_type": "markdown",
      "source": [
        "This function uses Breadth First Search. After creating the queue and  visited sets the while loop loops until the queue is empty. Every time the queue is popped and the neighbors are added to the queue, the functions checks if the neighbor of the current person is not connected to the root. If they are not, then their name is printed."
      ],
      "metadata": {
        "id": "vpJT10CxHmEW"
      }
    },
    {
      "cell_type": "code",
      "execution_count": 1,
      "metadata": {
        "id": "sQAiVpOcONAY"
      },
      "outputs": [],
      "source": [
        "#Import deque\n",
        "from collections import deque\n",
        "#Function definition, takes in the graph, and its root as parameters\n",
        "def PotentialFriends(graph, root):\n",
        "  #Creates the deque and the visited set\n",
        "  visited, queue = set(), deque([root])\n",
        "  visited.add(root)\n",
        "\n",
        "  #Loops until queue is empty\n",
        "  while queue:\n",
        "    #Pops from left of queue\n",
        "    person = queue.popleft()\n",
        "\n",
        "    #Adds neighbors to queue\n",
        "    for neighbor in graph[person]:\n",
        "      if neighbor not in visited:\n",
        "        visited.add(neighbor)\n",
        "        queue.append(neighbor)\n",
        "        #Prints the neighbor of the current person if they are not the root and haven't already been visited\n",
        "        if (person != root):\n",
        "          print(neighbor)"
      ]
    },
    {
      "cell_type": "code",
      "source": [
        "#Create graph of friend data\n",
        "G = {\n",
        "  'Adam' : ['Maria'],\n",
        "  'Maria' : ['Adam', 'Sophia', 'Maya', 'David'],\n",
        "  'Sophia' : ['Maria', 'Maya'],\n",
        "  'Maya' : ['Maria', 'Sophia', 'David'],\n",
        "  'David' : ['Maria', 'Maya'],\n",
        "}\n",
        "\n",
        "#Call PotentialFriends function\n",
        "PotentialFriends(G, 'Adam')"
      ],
      "metadata": {
        "colab": {
          "base_uri": "https://localhost:8080/"
        },
        "id": "x0nN5rKHU51L",
        "outputId": "577f3ae1-30ff-4916-81a8-970c2d9416f1"
      },
      "execution_count": 2,
      "outputs": [
        {
          "output_type": "stream",
          "name": "stdout",
          "text": [
            "Sophia\n",
            "Maya\n",
            "David\n"
          ]
        }
      ]
    }
  ]
}