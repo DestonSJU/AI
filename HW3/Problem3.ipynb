{
  "nbformat": 4,
  "nbformat_minor": 0,
  "metadata": {
    "colab": {
      "provenance": [],
      "authorship_tag": "ABX9TyPXqjmC6rl4LBd/85Y5us2O",
      "include_colab_link": true
    },
    "kernelspec": {
      "name": "python3",
      "display_name": "Python 3"
    },
    "language_info": {
      "name": "python"
    }
  },
  "cells": [
    {
      "cell_type": "markdown",
      "metadata": {
        "id": "view-in-github",
        "colab_type": "text"
      },
      "source": [
        "<a href=\"https://colab.research.google.com/github/DestonSJU/AI/blob/main/HW3/Problem3.ipynb\" target=\"_parent\"><img src=\"https://colab.research.google.com/assets/colab-badge.svg\" alt=\"Open In Colab\"/></a>"
      ]
    },
    {
      "cell_type": "markdown",
      "source": [
        "//*** Deston Willis\n",
        "\n",
        "//*** Artificial Intelligence\n",
        "\n",
        "//*** 2/15/24\n",
        "\n",
        "//*** HW3 Part 3: Create a DFS algorithm that searchs through a maze graph and determines if it is possible to reach the end or not"
      ],
      "metadata": {
        "id": "UQQP1b5H_8qG"
      }
    },
    {
      "cell_type": "markdown",
      "source": [
        "This function uses Depth First Search. After creating the queue and visited sets the while loop loops until the queue is empty. Every time the queue is popped, the function checks if the goal state has been reached. If it has, then success is printed and the function is returned. If the goal state is never reached after the search is complete, then failure is printed and the function is returned."
      ],
      "metadata": {
        "id": "tjSMWSPEIO99"
      }
    },
    {
      "cell_type": "code",
      "execution_count": 1,
      "metadata": {
        "id": "ClhOotdqpjRT"
      },
      "outputs": [],
      "source": [
        "#Import deque\n",
        "from collections import deque\n",
        "#Function definition, takes in the graph, its root, and the goal state as parameters\n",
        "def mazeDFS(graph, root, goal):\n",
        "  #Creates the deque and the visited set\n",
        "  visited, queue = set(), deque([root])\n",
        "  visited.add(root)\n",
        "\n",
        "  #Loops until queue is empty\n",
        "  while queue:\n",
        "    #Pops from left of queue\n",
        "    space = queue.popleft()\n",
        "    #Prints success if the current space is the goal state\n",
        "    if (space == goal):\n",
        "      print('Success')\n",
        "      return\n",
        "\n",
        "    #Adds neighbors to the queue\n",
        "    for neighbor in graph[space]:\n",
        "        if neighbor not in visited:\n",
        "            visited.add(neighbor)\n",
        "            queue.appendleft(neighbor)\n",
        "\n",
        "  #Prints failure if the goal state is never reached\n",
        "  print('Failure')\n",
        "  return"
      ]
    },
    {
      "cell_type": "code",
      "source": [
        "#Create graph of maze data\n",
        "maze = {\n",
        "  '0' : ['1', '10'],\n",
        "  '1' : ['0', '2'],\n",
        "  '2' : ['1', '12'],\n",
        "  '3' : ['4','13'],\n",
        "  '4' : ['3', '5'],\n",
        "  '5':  ['4', '15'],\n",
        "  '6' : ['7','16'],\n",
        "  '7' : ['6', '18'],\n",
        "  '8' : ['7', '9'],\n",
        "  '9' : ['8', '19'],\n",
        "  '10' : ['0', '20'],\n",
        "  '11' : ['12'],\n",
        "  '12' : ['2', '11'],\n",
        "  '13' : ['3','14'],\n",
        "  '14' : ['13', '24'],\n",
        "  '15':  ['5', '16'],\n",
        "  '16' : ['6','15', '26'],\n",
        "  '17' : ['27'],\n",
        "  '18' : ['19', '28'],\n",
        "  '19' : ['9', '18'],\n",
        "  '20' : ['10', '21'],\n",
        "  '21' : ['20', '31'],\n",
        "  '22' : ['23', '32'],\n",
        "  '23' : ['22'],\n",
        "  '24' : ['14', '25', '34'],\n",
        "  '25':  ['24', '35'],\n",
        "  '26' : ['16','27'],\n",
        "  '27' : ['17', '26'],\n",
        "  '28' : ['18', '38'],\n",
        "  '29' : ['39'],\n",
        "  '30' : ['31', '40'],\n",
        "  '31' : ['21', '30', '32'],\n",
        "  '32' : ['22', '31'],\n",
        "  '33' : ['34','43'],\n",
        "  '34' : ['24', '33', '44'],\n",
        "  '35':  ['25', '36'],\n",
        "  '36' : ['35'],\n",
        "  '37' : ['38', '47'],\n",
        "  '38' : ['28', '37', '39'],\n",
        "  '39' : ['29', '38'],\n",
        "  '40' : ['30', '41'],\n",
        "  '41' : ['40', '42'],\n",
        "  '42' : ['41', '43'],\n",
        "  '43' : ['33', '42'],\n",
        "  '44' : ['34', '45'],\n",
        "  '45':  ['44'],\n",
        "  '46' : ['47'],\n",
        "  '47' : ['37', '46', '48'],\n",
        "  '48' : ['47', '49'],\n",
        "  '49' : ['48']\n",
        "\n",
        "}\n",
        "\n",
        "#Call mazeDFS function\n",
        "mazeDFS(maze, '0', '49')"
      ],
      "metadata": {
        "id": "_KSvDnzhqqKE",
        "colab": {
          "base_uri": "https://localhost:8080/"
        },
        "outputId": "dc1043e7-b2f1-43ec-9dc4-6ee475afd96f"
      },
      "execution_count": 2,
      "outputs": [
        {
          "output_type": "stream",
          "name": "stdout",
          "text": [
            "Success\n"
          ]
        }
      ]
    },
    {
      "cell_type": "code",
      "source": [
        "#Create graph of maze data\n",
        "maze = {\n",
        "  '0' : ['1', '10'],\n",
        "  '1' : ['0', '2'],\n",
        "  '2' : ['1', '12'],\n",
        "  '3' : ['4','13'],\n",
        "  '4' : ['3', '5'],\n",
        "  '5':  ['4', '15'],\n",
        "  '6' : ['7','16'],\n",
        "  '7' : ['6', '18'],\n",
        "  '8' : ['7', '9'],\n",
        "  '9' : ['8', '19'],\n",
        "  '10' : ['0', '20'],\n",
        "  '11' : ['12'],\n",
        "  '12' : ['2', '11'],\n",
        "  '13' : ['3','14'],\n",
        "  '14' : ['13', '24'],\n",
        "  '15':  ['5', '16'],\n",
        "  '16' : ['6','15', '26'],\n",
        "  '17' : ['27'],\n",
        "  '18' : ['19', '28'],\n",
        "  '19' : ['9', '18'],\n",
        "  '20' : ['10', '21'],\n",
        "  '21' : ['20'],\n",
        "  '22' : ['23', '32'],\n",
        "  '23' : ['22'],\n",
        "  '24' : ['14', '25', '34'],\n",
        "  '25':  ['24', '35'],\n",
        "  '26' : ['16','27'],\n",
        "  '27' : ['17', '26'],\n",
        "  '28' : ['18', '38'],\n",
        "  '29' : ['39'],\n",
        "  '30' : ['31', '40'],\n",
        "  '31' : ['21', '30', '32'],\n",
        "  '32' : ['22', '31'],\n",
        "  '33' : ['34','43'],\n",
        "  '34' : ['24', '33', '44'],\n",
        "  '35':  ['25', '36'],\n",
        "  '36' : ['35'],\n",
        "  '37' : ['38', '47'],\n",
        "  '38' : ['28', '37', '39'],\n",
        "  '39' : ['29', '38'],\n",
        "  '40' : ['30', '41'],\n",
        "  '41' : ['40', '42'],\n",
        "  '42' : ['41', '43'],\n",
        "  '43' : ['33', '42'],\n",
        "  '44' : ['34', '45'],\n",
        "  '45':  ['44'],\n",
        "  '46' : ['47'],\n",
        "  '47' : ['37', '46', '48'],\n",
        "  '48' : ['47', '49'],\n",
        "  '49' : ['48']\n",
        "\n",
        "}\n",
        "\n",
        "#Call mazeDFS function\n",
        "mazeDFS(maze, '0', '49')"
      ],
      "metadata": {
        "colab": {
          "base_uri": "https://localhost:8080/"
        },
        "id": "sVtLgrvcD9o2",
        "outputId": "0715106b-5f1d-47d3-ffb6-bb1d54880734"
      },
      "execution_count": 3,
      "outputs": [
        {
          "output_type": "stream",
          "name": "stdout",
          "text": [
            "Failure\n"
          ]
        }
      ]
    }
  ]
}
