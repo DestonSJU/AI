{
  "nbformat": 4,
  "nbformat_minor": 0,
  "metadata": {
    "colab": {
      "provenance": [],
      "authorship_tag": "ABX9TyPzjCQcgN5aim73N53joyR4",
      "include_colab_link": true
    },
    "kernelspec": {
      "name": "python3",
      "display_name": "Python 3"
    },
    "language_info": {
      "name": "python"
    }
  },
  "cells": [
    {
      "cell_type": "markdown",
      "metadata": {
        "id": "view-in-github",
        "colab_type": "text"
      },
      "source": [
        "<a href=\"https://colab.research.google.com/github/DestonSJU/AI/blob/main/HW3/Problem1.ipynb\" target=\"_parent\"><img src=\"https://colab.research.google.com/assets/colab-badge.svg\" alt=\"Open In Colab\"/></a>"
      ]
    },
    {
      "cell_type": "markdown",
      "source": [
        "//*** Deston Willis\n",
        "\n",
        "//*** Artificial Intelligence\n",
        "\n",
        "//*** 2/15/24\n",
        "\n",
        "//*** HW3 Part 1: Create a BFS algorithm that prints the kth level friends of someone in a given graph\n"
      ],
      "metadata": {
        "id": "DeTUgkA54qdG"
      }
    },
    {
      "cell_type": "markdown",
      "source": [
        "This algorithm uses Breadth First Search. After creating the queue, visited sets, and the needed variables, the while loop loops until the queue is empty. Every time the queue is popped, the function goes further through the level until it reaches the end and then does the same with the next level. Once the desired level is reached, the function prints out the names that appear at that level."
      ],
      "metadata": {
        "id": "5lGzVwibDOsC"
      }
    },
    {
      "cell_type": "code",
      "execution_count": 1,
      "metadata": {
        "id": "G0sr5Ic5s5pb"
      },
      "outputs": [],
      "source": [
        "#Import deque\n",
        "from collections import deque\n",
        "\n",
        "#Function definition, takes in the graph, its root, and the desired level as parameters\n",
        "def FindFriends(graph, root, level):\n",
        "  #Creates the deque and the visited set\n",
        "  visited, queue = set(), deque([root])\n",
        "  visited.add(root)\n",
        "  #Creates variables for length of level, the current level, and the position in that level\n",
        "  levelLength = len(queue)\n",
        "  currentLevel = 0;\n",
        "  levelPosition = 0;\n",
        "\n",
        "  #Loops until queue is empty\n",
        "  while queue:\n",
        "    #Pops from left of queue and updates postition in current level\n",
        "    person = queue.popleft()\n",
        "    levelPosition = levelPosition + 1\n",
        "    #Prints the person if they are on the desired level\n",
        "    if (currentLevel == level):\n",
        "      print(person)\n",
        "\n",
        "    #Adds neighbors into the queue\n",
        "    for neighbor in graph[person]:\n",
        "        if neighbor not in visited:\n",
        "            visited.add(neighbor)\n",
        "            queue.append(neighbor)\n",
        "\n",
        "    #Resets levelPosition, increments currentLevel, and sets levelLength to current length of the queue if at the end of the current level\n",
        "    if (levelPosition == levelLength):\n",
        "      levelPosition = 0\n",
        "      currentLevel = currentLevel + 1\n",
        "      levelLength = len(queue)"
      ]
    },
    {
      "cell_type": "code",
      "source": [
        "#Create graph of friend data\n",
        "G = {\n",
        "  'Richard' : [],\n",
        "  'Bob' : ['Richard', 'Rob', 'Pam'],\n",
        "  'Rob' : [],\n",
        "  'Pam' : ['Roger', 'Peter'],\n",
        "  'Roger' : ['Anna'],\n",
        "  'Anna' : [],\n",
        "  'Peter' : ['Amy'],\n",
        "  'Amy' : []\n",
        "}\n",
        "\n",
        "#Call FindFriends function\n",
        "FindFriends(G, 'Bob', 3)"
      ],
      "metadata": {
        "colab": {
          "base_uri": "https://localhost:8080/"
        },
        "id": "gV2lKk4fwsKd",
        "outputId": "50d1d5ea-c1e5-4d58-872f-5f733914d93e"
      },
      "execution_count": 2,
      "outputs": [
        {
          "output_type": "stream",
          "name": "stdout",
          "text": [
            "Anna\n",
            "Amy\n"
          ]
        }
      ]
    },
    {
      "cell_type": "code",
      "source": [
        "#Create graph of friend data\n",
        "G = {\n",
        "  '1' : ['2'],\n",
        "  '2' : ['1', '3'],\n",
        "  '3' : ['2', '4', '5'],\n",
        "  '4' : ['3'],\n",
        "  '5' : ['3'],\n",
        "}\n",
        "\n",
        "#Call FindFriends function\n",
        "FindFriends(G, '1', 2)"
      ],
      "metadata": {
        "colab": {
          "base_uri": "https://localhost:8080/"
        },
        "id": "D8RB3Ifj3QPY",
        "outputId": "d253fa3b-e5b9-453e-cfd1-bdebbeda9aa4"
      },
      "execution_count": 3,
      "outputs": [
        {
          "output_type": "stream",
          "name": "stdout",
          "text": [
            "3\n"
          ]
        }
      ]
    }
  ]
}
